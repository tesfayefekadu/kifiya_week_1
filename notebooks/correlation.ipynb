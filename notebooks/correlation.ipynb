{
 "cells": [
  {
   "cell_type": "code",
   "execution_count": 138,
   "metadata": {},
   "outputs": [],
   "source": [
    "import pandas as pd\n",
    "import numpy as np\n",
    "import matplotlib.pyplot as plt\n",
    "import seaborn as sns\n",
    "import nltk\n",
    "from nltk.sentiment import SentimentIntensityAnalyzer\n",
    "from sklearn.preprocessing import MinMaxScaler\n",
    "\n"
   ]
  },
  {
   "cell_type": "code",
   "execution_count": 139,
   "metadata": {},
   "outputs": [
    {
     "name": "stderr",
     "output_type": "stream",
     "text": [
      "[nltk_data] Downloading package vader_lexicon to\n",
      "[nltk_data]     C:\\Users\\ftesfaye\\AppData\\Roaming\\nltk_data...\n",
      "[nltk_data]   Package vader_lexicon is already up-to-date!\n"
     ]
    },
    {
     "data": {
      "text/plain": [
       "True"
      ]
     },
     "execution_count": 139,
     "metadata": {},
     "output_type": "execute_result"
    }
   ],
   "source": [
    "nltk.download('vader_lexicon')\n"
   ]
  },
  {
   "cell_type": "code",
   "execution_count": 147,
   "metadata": {},
   "outputs": [],
   "source": [
    "news_data = pd.read_csv('../data/raw_analyst_ratings.csv')\n",
    "stock_data = pd.read_csv('../data/yfinance_data/META_historical_data.csv')"
   ]
  },
  {
   "cell_type": "code",
   "execution_count": 141,
   "metadata": {},
   "outputs": [
    {
     "name": "stdout",
     "output_type": "stream",
     "text": [
      "   Unnamed: 0                                           headline  \\\n",
      "0           0            Stocks That Hit 52-Week Highs On Friday   \n",
      "1           1         Stocks That Hit 52-Week Highs On Wednesday   \n",
      "2           2                      71 Biggest Movers From Friday   \n",
      "3           3       46 Stocks Moving In Friday's Mid-Day Session   \n",
      "4           4  B of A Securities Maintains Neutral on Agilent...   \n",
      "\n",
      "                                                 url          publisher  \\\n",
      "0  https://www.benzinga.com/news/20/06/16190091/s...  Benzinga Insights   \n",
      "1  https://www.benzinga.com/news/20/06/16170189/s...  Benzinga Insights   \n",
      "2  https://www.benzinga.com/news/20/05/16103463/7...         Lisa Levin   \n",
      "3  https://www.benzinga.com/news/20/05/16095921/4...         Lisa Levin   \n",
      "4  https://www.benzinga.com/news/20/05/16095304/b...         Vick Meyer   \n",
      "\n",
      "                        date stock  \n",
      "0  2020-06-05 10:30:54-04:00     A  \n",
      "1  2020-06-03 10:45:20-04:00     A  \n",
      "2  2020-05-26 04:30:07-04:00     A  \n",
      "3  2020-05-22 12:45:06-04:00     A  \n",
      "4  2020-05-22 11:38:59-04:00     A  \n",
      "         Date       Open       High        Low      Close  Adj Close  \\\n",
      "0  2012-12-12  28.000000  28.139999  27.370001  27.580000  27.523441   \n",
      "1  2012-12-13  27.590000  28.750000  27.430000  28.240000  28.182087   \n",
      "2  2012-12-14  28.180000  28.330000  26.760000  26.809999  26.755020   \n",
      "3  2012-12-17  26.770000  27.000000  26.320000  26.750000  26.695143   \n",
      "4  2012-12-18  26.959999  27.910000  26.900000  27.709999  27.653173   \n",
      "\n",
      "     Volume  Dividends  Stock Splits  \n",
      "0  46704200        0.0           0.0  \n",
      "1  81051600        0.0           0.0  \n",
      "2  91631600        0.0           0.0  \n",
      "3  57742500        0.0           0.0  \n",
      "4  60512900        0.0           0.0  \n"
     ]
    }
   ],
   "source": [
    "print(news_data.head())\n",
    "print(stock_data.head())\n"
   ]
  },
  {
   "cell_type": "code",
   "execution_count": 153,
   "metadata": {},
   "outputs": [],
   "source": [
    "news_data['date'] = pd.to_datetime(news_data['date'], errors='coerce', utc=True)\n",
    "stock_data['Date'] = pd.to_datetime(stock_data['Date'], errors='coerce',utc=True)\n",
    "\n"
   ]
  },
  {
   "cell_type": "code",
   "execution_count": 154,
   "metadata": {},
   "outputs": [],
   "source": [
    "news_data['date'] = news_data['date'].dt.normalize()\n"
   ]
  },
  {
   "cell_type": "code",
   "execution_count": 155,
   "metadata": {},
   "outputs": [],
   "source": [
    "\n",
    "# Align the datasets by performing an inner join on the date\n",
    "aligned_data = news_data.join(stock_data, how='inner')"
   ]
  },
  {
   "cell_type": "code",
   "execution_count": 156,
   "metadata": {},
   "outputs": [
    {
     "name": "stdout",
     "output_type": "stream",
     "text": [
      "    Unnamed: 0                                           headline  \\\n",
      "0            0            Stocks That Hit 52-Week Highs On Friday   \n",
      "1            1         Stocks That Hit 52-Week Highs On Wednesday   \n",
      "2            2                      71 Biggest Movers From Friday   \n",
      "3            3       46 Stocks Moving In Friday's Mid-Day Session   \n",
      "4            4  B of A Securities Maintains Neutral on Agilent...   \n",
      "5            5  CFRA Maintains Hold on Agilent Technologies, L...   \n",
      "6            6  UBS Maintains Neutral on Agilent Technologies,...   \n",
      "7            7  Agilent Technologies shares are trading higher...   \n",
      "8            8  Wells Fargo Maintains Overweight on Agilent Te...   \n",
      "9            9         10 Biggest Price Target Changes For Friday   \n",
      "10          10    30 Stocks Moving in Friday's Pre-Market Session   \n",
      "11          11  SVB Leerink Maintains Outperform on Agilent Te...   \n",
      "12          12  8 Stocks Moving In Thursday's After-Hours Session   \n",
      "13          13  Agilent Technologies shares are trading higher...   \n",
      "14          14  Agilent Technologies Q2 Adj. EPS $0.71 Beats $...   \n",
      "15          15                Earnings Scheduled For May 21, 2020   \n",
      "16          16  Agilent Technologies Receives FDA Approval for...   \n",
      "17          17  Q1 13F Roundup: How Buffett, Einhorn, Ackman A...   \n",
      "18          18  Pershing Square 13F Shows Fund Raises Stake In...   \n",
      "19          19  How Bill Ackman Successfully Navigated Coronav...   \n",
      "\n",
      "                                                  url  \\\n",
      "0   https://www.benzinga.com/news/20/06/16190091/s...   \n",
      "1   https://www.benzinga.com/news/20/06/16170189/s...   \n",
      "2   https://www.benzinga.com/news/20/05/16103463/7...   \n",
      "3   https://www.benzinga.com/news/20/05/16095921/4...   \n",
      "4   https://www.benzinga.com/news/20/05/16095304/b...   \n",
      "5   https://www.benzinga.com/news/20/05/16095163/c...   \n",
      "6   https://www.benzinga.com/news/20/05/16094027/u...   \n",
      "7   https://www.benzinga.com/wiim/20/05/16093805/a...   \n",
      "8   https://www.benzinga.com/news/20/05/16093505/w...   \n",
      "9   https://www.benzinga.com/analyst-ratings/price...   \n",
      "10  https://www.benzinga.com/news/20/05/16092879/3...   \n",
      "11  https://www.benzinga.com/news/20/05/16092270/s...   \n",
      "12  https://www.benzinga.com/news/20/05/16089803/8...   \n",
      "13  https://www.benzinga.com/wiim/20/05/16089218/a...   \n",
      "14  https://www.benzinga.com/news/earnings/20/05/1...   \n",
      "15  https://www.benzinga.com/news/earnings/20/05/1...   \n",
      "16  https://www.benzinga.com/news/20/05/16054223/a...   \n",
      "17  https://www.benzinga.com/news/20/05/16051311/q...   \n",
      "18  https://www.benzinga.com/general/hedge-funds/2...   \n",
      "19  https://www.benzinga.com/general/education/20/...   \n",
      "\n",
      "                  publisher                      date stock  \\\n",
      "0         Benzinga Insights 2020-06-05 00:00:00+00:00     A   \n",
      "1         Benzinga Insights 2020-06-03 00:00:00+00:00     A   \n",
      "2                Lisa Levin 2020-05-26 00:00:00+00:00     A   \n",
      "3                Lisa Levin 2020-05-22 00:00:00+00:00     A   \n",
      "4                Vick Meyer 2020-05-22 00:00:00+00:00     A   \n",
      "5   vishwanath@benzinga.com 2020-05-22 00:00:00+00:00     A   \n",
      "6   vishwanath@benzinga.com 2020-05-22 00:00:00+00:00     A   \n",
      "7         Benzinga Newsdesk 2020-05-22 00:00:00+00:00     A   \n",
      "8   vishwanath@benzinga.com 2020-05-22 00:00:00+00:00     A   \n",
      "9                Lisa Levin 2020-05-22 00:00:00+00:00     A   \n",
      "10               Lisa Levin                       NaT     A   \n",
      "11  vishwanath@benzinga.com                       NaT     A   \n",
      "12             Tyree Gorges                       NaT     A   \n",
      "13        Benzinga Newsdesk                       NaT     A   \n",
      "14        Benzinga Newsdesk                       NaT     A   \n",
      "15               Lisa Levin                       NaT     A   \n",
      "16            Luke J Jacobi                       NaT     A   \n",
      "17             Wayne Duggan                       NaT     A   \n",
      "18        Benzinga Newsdesk                       NaT     A   \n",
      "19             Wayne Duggan                       NaT     A   \n",
      "\n",
      "                        Date       Open       High        Low      Close  \\\n",
      "0  2012-12-12 00:00:00+00:00  28.000000  28.139999  27.370001  27.580000   \n",
      "1  2012-12-13 00:00:00+00:00  27.590000  28.750000  27.430000  28.240000   \n",
      "2  2012-12-14 00:00:00+00:00  28.180000  28.330000  26.760000  26.809999   \n",
      "3  2012-12-17 00:00:00+00:00  26.770000  27.000000  26.320000  26.750000   \n",
      "4  2012-12-18 00:00:00+00:00  26.959999  27.910000  26.900000  27.709999   \n",
      "5  2012-12-19 00:00:00+00:00  27.830000  28.219999  26.950001  27.410000   \n",
      "6  2012-12-20 00:00:00+00:00  27.490000  27.600000  27.129999  27.360001   \n",
      "7  2012-12-21 00:00:00+00:00  26.660000  27.010000  26.120001  26.260000   \n",
      "8  2012-12-24 00:00:00+00:00  26.500000  26.959999  26.200001  26.930000   \n",
      "9  2012-12-26 00:00:00+00:00  27.030001  27.180000  26.379999  26.510000   \n",
      "10 2012-12-27 00:00:00+00:00  26.549999  26.799999  25.520000  26.049999   \n",
      "11 2012-12-28 00:00:00+00:00  25.480000  26.110001  25.150000  25.910000   \n",
      "12 2012-12-31 00:00:00+00:00  26.200001  26.990000  26.110001  26.620001   \n",
      "13 2013-01-02 00:00:00+00:00  27.440001  28.180000  27.420000  28.000000   \n",
      "14 2013-01-03 00:00:00+00:00  27.879999  28.469999  27.590000  27.770000   \n",
      "15 2013-01-04 00:00:00+00:00  28.010000  28.930000  27.830000  28.760000   \n",
      "16 2013-01-07 00:00:00+00:00  28.690001  29.790001  28.650000  29.420000   \n",
      "17 2013-01-08 00:00:00+00:00  29.510000  29.600000  28.860001  29.059999   \n",
      "18 2013-01-09 00:00:00+00:00  29.670000  30.600000  29.490000  30.590000   \n",
      "19 2013-01-10 00:00:00+00:00  30.600000  31.450001  30.280001  31.299999   \n",
      "\n",
      "    Adj Close     Volume  Dividends  Stock Splits  \n",
      "0   27.523441   46704200        0.0           0.0  \n",
      "1   28.182087   81051600        0.0           0.0  \n",
      "2   26.755020   91631600        0.0           0.0  \n",
      "3   26.695143   57742500        0.0           0.0  \n",
      "4   27.653173   60512900        0.0           0.0  \n",
      "5   27.353790   61390300        0.0           0.0  \n",
      "6   27.303892   35574800        0.0           0.0  \n",
      "7   26.206148   54555200        0.0           0.0  \n",
      "8   26.874775   28230100        0.0           0.0  \n",
      "9   26.455635   33175400        0.0           0.0  \n",
      "10  25.996578   43481700        0.0           0.0  \n",
      "11  25.856865   56574800        0.0           0.0  \n",
      "12  26.565411   60374500        0.0           0.0  \n",
      "13  27.942579   69846400        0.0           0.0  \n",
      "14  27.713053   63140600        0.0           0.0  \n",
      "15  28.701021   72715400        0.0           0.0  \n",
      "16  29.359669   83781800        0.0           0.0  \n",
      "17  29.000406   45871300        0.0           0.0  \n",
      "18  30.527267  104787700        0.0           0.0  \n",
      "19  31.235811   95316400        0.0           0.0  \n"
     ]
    }
   ],
   "source": [
    "print(aligned_data.head(20))\n"
   ]
  },
  {
   "cell_type": "code",
   "execution_count": null,
   "metadata": {},
   "outputs": [],
   "source": []
  }
 ],
 "metadata": {
  "kernelspec": {
   "display_name": "Python 3",
   "language": "python",
   "name": "python3"
  },
  "language_info": {
   "codemirror_mode": {
    "name": "ipython",
    "version": 3
   },
   "file_extension": ".py",
   "mimetype": "text/x-python",
   "name": "python",
   "nbconvert_exporter": "python",
   "pygments_lexer": "ipython3",
   "version": "3.11.2"
  }
 },
 "nbformat": 4,
 "nbformat_minor": 2
}
